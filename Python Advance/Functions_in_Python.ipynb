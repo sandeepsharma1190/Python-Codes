{
 "cells": [
  {
   "cell_type": "code",
   "execution_count": null,
   "metadata": {},
   "outputs": [],
   "source": []
  },
  {
   "cell_type": "markdown",
   "metadata": {},
   "source": [
    "### Some basic useful in-built functions in Python\n",
    "\n",
    "`help` `print` `sum` `min` `max` `len`"
   ]
  },
  {
   "cell_type": "markdown",
   "metadata": {},
   "source": [
    "#### `help`\n",
    "\n",
    "**Syntax**\n",
    "\n",
    "`help()` at the Python prompt starts an interactive help session.\n",
    "\n",
    "`help(thing)` prints help for the python object 'thing'."
   ]
  },
  {
   "cell_type": "code",
   "execution_count": 1,
   "metadata": {},
   "outputs": [
    {
     "name": "stdout",
     "output_type": "stream",
     "text": [
      "\n",
      "Welcome to Python 3.8's help utility!\n",
      "\n",
      "If this is your first time using Python, you should definitely check out\n",
      "the tutorial on the Internet at https://docs.python.org/3.8/tutorial/.\n",
      "\n",
      "Enter the name of any module, keyword, or topic to get help on writing\n",
      "Python programs and using Python modules.  To quit this help utility and\n",
      "return to the interpreter, just type \"quit\".\n",
      "\n",
      "To get a list of available modules, keywords, symbols, or topics, type\n",
      "\"modules\", \"keywords\", \"symbols\", or \"topics\".  Each module also comes\n",
      "with a one-line summary of what it does; to list the modules whose name\n",
      "or summary contain a given string such as \"spam\", type \"modules spam\".\n",
      "\n",
      "help> symbols\n",
      "\n",
      "Here is a list of the punctuation symbols which Python assigns special meaning\n",
      "to. Enter any symbol to get more help.\n",
      "\n",
      "!=                  +                   <=                  __\n",
      "\"                   +=                  <>                  `\n",
      "\"\"\"                 ,                   ==                  b\"\n",
      "%                   -                   >                   b'\n",
      "%=                  -=                  >=                  f\"\n",
      "&                   .                   >>                  f'\n",
      "&=                  ...                 >>=                 j\n",
      "'                   /                   @                   r\"\n",
      "'''                 //                  J                   r'\n",
      "(                   //=                 [                   u\"\n",
      ")                   /=                  \\                   u'\n",
      "*                   :                   ]                   |\n",
      "**                  <                   ^                   |=\n",
      "**=                 <<                  ^=                  ~\n",
      "*=                  <<=                 _                   \n",
      "\n",
      "help> keywords\n",
      "\n",
      "Here is a list of the Python keywords.  Enter any keyword to get more help.\n",
      "\n",
      "False               class               from                or\n",
      "None                continue            global              pass\n",
      "True                def                 if                  raise\n",
      "and                 del                 import              return\n",
      "as                  elif                in                  try\n",
      "assert              else                is                  while\n",
      "async               except              lambda              with\n",
      "await               finally             nonlocal            yield\n",
      "break               for                 not                 \n",
      "\n",
      "help> quit\n",
      "\n",
      "You are now leaving help and returning to the Python interpreter.\n",
      "If you want to ask for help on a particular object directly from the\n",
      "interpreter, you can type \"help(object)\".  Executing \"help('string')\"\n",
      "has the same effect as typing a particular string at the help> prompt.\n"
     ]
    }
   ],
   "source": [
    "help()\n",
    "\n",
    "# Press `quit` to end the interactive help session"
   ]
  },
  {
   "cell_type": "code",
   "execution_count": 2,
   "metadata": {
    "scrolled": true
   },
   "outputs": [
    {
     "name": "stdout",
     "output_type": "stream",
     "text": [
      "Help on built-in function print in module builtins:\n",
      "\n",
      "print(...)\n",
      "    print(value, ..., sep=' ', end='\\n', file=sys.stdout, flush=False)\n",
      "    \n",
      "    Prints the values to a stream, or to sys.stdout by default.\n",
      "    Optional keyword arguments:\n",
      "    file:  a file-like object (stream); defaults to the current sys.stdout.\n",
      "    sep:   string inserted between values, default a space.\n",
      "    end:   string appended after the last value, default a newline.\n",
      "    flush: whether to forcibly flush the stream.\n",
      "\n"
     ]
    }
   ],
   "source": [
    "help(print)\n",
    "\n",
    "# it is only to show that you can get help, please don't worry about the arguments and thier meaning."
   ]
  },
  {
   "cell_type": "code",
   "execution_count": 22,
   "metadata": {},
   "outputs": [
    {
     "name": "stdout",
     "output_type": "stream",
     "text": [
      "Help on _Helper in module _sitebuiltins object:\n",
      "\n",
      "class _Helper(builtins.object)\n",
      " |  Define the builtin 'help'.\n",
      " |  \n",
      " |  This is a wrapper around pydoc.help that provides a helpful message\n",
      " |  when 'help' is typed at the Python interactive prompt.\n",
      " |  \n",
      " |  Calling help() at the Python prompt starts an interactive help session.\n",
      " |  Calling help(thing) prints help for the python object 'thing'.\n",
      " |  \n",
      " |  Methods defined here:\n",
      " |  \n",
      " |  __call__(self, *args, **kwds)\n",
      " |      Call self as a function.\n",
      " |  \n",
      " |  __repr__(self)\n",
      " |      Return repr(self).\n",
      " |  \n",
      " |  ----------------------------------------------------------------------\n",
      " |  Data descriptors defined here:\n",
      " |  \n",
      " |  __dict__\n",
      " |      dictionary for instance variables (if defined)\n",
      " |  \n",
      " |  __weakref__\n",
      " |      list of weak references to the object (if defined)\n",
      "\n"
     ]
    }
   ],
   "source": [
    "help(help)\n",
    "\n",
    "# Even, you can get help of help function as well"
   ]
  },
  {
   "cell_type": "markdown",
   "metadata": {},
   "source": []
  },
  {
   "cell_type": "markdown",
   "metadata": {},
   "source": [
    "#### `print`\n",
    "\n",
    "**Syntax**\n",
    "\n",
    "`print(value, ..., sep=' ', end = '\\n')`"
   ]
  },
  {
   "cell_type": "code",
   "execution_count": 3,
   "metadata": {},
   "outputs": [
    {
     "name": "stdout",
     "output_type": "stream",
     "text": [
      "5 6 7 8\n",
      "5 || 6 || 7 || 8\n",
      "\n",
      "\n",
      "\n",
      "5 6 7 8 *** 5 || 6 || 7 || 8 *** "
     ]
    }
   ],
   "source": [
    "a = 5\n",
    "b = 6\n",
    "c = 7\n",
    "d = 8\n",
    "print(a,b,c,d)\n",
    "print(a,b,c,d, sep=' || ') # use of sep i.e. separator\n",
    "\n",
    "print('\\n\\n')\n",
    "print(a,b,c,d, end=' *** ') # use of end\n",
    "print(a,b,c,d, sep=' || ',end=' *** ') # use of end"
   ]
  },
  {
   "cell_type": "code",
   "execution_count": 4,
   "metadata": {},
   "outputs": [
    {
     "name": "stdout",
     "output_type": "stream",
     "text": [
      "Help on built-in function print in module builtins:\n",
      "\n",
      "print(...)\n",
      "    print(value, ..., sep=' ', end='\\n', file=sys.stdout, flush=False)\n",
      "    \n",
      "    Prints the values to a stream, or to sys.stdout by default.\n",
      "    Optional keyword arguments:\n",
      "    file:  a file-like object (stream); defaults to the current sys.stdout.\n",
      "    sep:   string inserted between values, default a space.\n",
      "    end:   string appended after the last value, default a newline.\n",
      "    flush: whether to forcibly flush the stream.\n",
      "\n"
     ]
    }
   ],
   "source": [
    "print()"
   ]
  },
  {
   "cell_type": "markdown",
   "metadata": {},
   "source": []
  },
  {
   "cell_type": "markdown",
   "metadata": {},
   "source": [
    "#### `sum`\n",
    "\n",
    "**Syntax**\n",
    "\n",
    "`sum(iterable, start=0)`\n",
    "\n",
    "`iterable` should have items which are `numeric only`, otherwise you will get an error."
   ]
  },
  {
   "cell_type": "markdown",
   "metadata": {},
   "source": [
    "**Another way to get help in Jupyter Notebook**\n",
    "\n",
    "Please note that before pressing `SHIFT TAB TAB` your cursor should be between paranthesis `()`"
   ]
  },
  {
   "cell_type": "markdown",
   "metadata": {},
   "source": [
    "![SHIFT TAB TAB help](image/help_using_Shift_tab.png)"
   ]
  },
  {
   "cell_type": "code",
   "execution_count": 5,
   "metadata": {},
   "outputs": [
    {
     "name": "stdout",
     "output_type": "stream",
     "text": [
      "15\n",
      "35\n"
     ]
    }
   ],
   "source": [
    "print(sum([1, 2, 3, 4, 5]))\n",
    "print(sum([1, 2, 3, 4, 5], start = 20)) # In this 20 will be added"
   ]
  },
  {
   "cell_type": "code",
   "execution_count": 6,
   "metadata": {},
   "outputs": [
    {
     "name": "stdout",
     "output_type": "stream",
     "text": [
      "15\n"
     ]
    }
   ],
   "source": [
    "print(sum((1, 2, 3, 4, 5))) # Can sum the tuples as well"
   ]
  },
  {
   "cell_type": "code",
   "execution_count": 8,
   "metadata": {},
   "outputs": [
    {
     "name": "stdout",
     "output_type": "stream",
     "text": [
      "20\n"
     ]
    }
   ],
   "source": [
    "print(sum([],start = 20))"
   ]
  },
  {
   "cell_type": "markdown",
   "metadata": {},
   "source": []
  },
  {
   "cell_type": "markdown",
   "metadata": {},
   "source": [
    "#### `min`\n",
    "\n",
    "**Syntax**\n",
    "\n",
    "`min(iterable, default)`\n"
   ]
  },
  {
   "cell_type": "code",
   "execution_count": 69,
   "metadata": {},
   "outputs": [
    {
     "data": {
      "text/plain": [
       "5"
      ]
     },
     "execution_count": 69,
     "metadata": {},
     "output_type": "execute_result"
    }
   ],
   "source": [
    "min([20, 37, 89, 25 , 5, 78])"
   ]
  },
  {
   "cell_type": "code",
   "execution_count": 10,
   "metadata": {},
   "outputs": [
    {
     "data": {
      "text/plain": [
       "'Iterable has no item to iterate, hence no minimum value'"
      ]
     },
     "execution_count": 10,
     "metadata": {},
     "output_type": "execute_result"
    }
   ],
   "source": [
    "# min([]) # This will give an error\n",
    "\n",
    "# Comment the above line and un-comment below line to see the magic\n",
    "\n",
    "min([], default='Iterable has no item to iterate, hence no minimum value') "
   ]
  },
  {
   "cell_type": "markdown",
   "metadata": {},
   "source": []
  },
  {
   "cell_type": "markdown",
   "metadata": {},
   "source": [
    "#### `max`\n",
    "\n",
    "**Syntax**\n",
    "\n",
    "`max(iterable, default)`\n"
   ]
  },
  {
   "cell_type": "code",
   "execution_count": 74,
   "metadata": {},
   "outputs": [
    {
     "data": {
      "text/plain": [
       "89"
      ]
     },
     "execution_count": 74,
     "metadata": {},
     "output_type": "execute_result"
    }
   ],
   "source": [
    "max([20, 37, 89, 25 , 5, 78])"
   ]
  },
  {
   "cell_type": "code",
   "execution_count": 12,
   "metadata": {},
   "outputs": [
    {
     "data": {
      "text/plain": [
       "'Iterable has no item to iterate, hence no minimum value'"
      ]
     },
     "execution_count": 12,
     "metadata": {},
     "output_type": "execute_result"
    }
   ],
   "source": [
    "# max([]) # This will give an error\n",
    "\n",
    "# Comment the above line and un-comment below line to see the magic\n",
    "\n",
    "max([], default='Iterable has no item to iterate, hence no minimum value') "
   ]
  },
  {
   "cell_type": "markdown",
   "metadata": {},
   "source": []
  },
  {
   "cell_type": "markdown",
   "metadata": {},
   "source": [
    "#### `len`\n",
    "\n",
    "**Syntax**\n",
    "\n",
    "`len(iterable)`\n"
   ]
  },
  {
   "cell_type": "code",
   "execution_count": 13,
   "metadata": {},
   "outputs": [
    {
     "name": "stdout",
     "output_type": "stream",
     "text": [
      "6\n",
      "4\n",
      "10\n",
      "8\n"
     ]
    }
   ],
   "source": [
    "listA = [1,2,3,4,5,6]\n",
    "dictA = {1:'2', 2:'3', 3:'4', 4:'5'}\n",
    "tupA = (1,2,3,4,5,6,7,8,9,10)\n",
    "setA = {1,2,3,4,5,6, 1,2,3,4,5,6, 7,8} \n",
    "\n",
    "\n",
    "print(len(listA))\n",
    "print(len(dictA))\n",
    "print(len(tupA))\n",
    "print(len(setA)) # Why len is 8 "
   ]
  },
  {
   "cell_type": "markdown",
   "metadata": {},
   "source": []
  },
  {
   "cell_type": "markdown",
   "metadata": {},
   "source": [
    "## `User defined function`\n",
    "\n",
    "**Syntax**\n",
    "\n",
    "`def function_name(Parameters / Arguments):\n",
    "    function / computations\n",
    "    return expression / value`\n",
    "\n",
    "`function_name(Parameters / Arguments)`\n"
   ]
  },
  {
   "cell_type": "code",
   "execution_count": 16,
   "metadata": {},
   "outputs": [],
   "source": [
    "# very basic definition\n",
    "def greet(name):\n",
    "    print(f\"Hi {name}, Good Afternoon !!\")"
   ]
  },
  {
   "cell_type": "code",
   "execution_count": 17,
   "metadata": {},
   "outputs": [
    {
     "name": "stdout",
     "output_type": "stream",
     "text": [
      "Hi Deepak, Good Afternoon !!\n"
     ]
    }
   ],
   "source": [
    "greet(name = 'Deepak')"
   ]
  },
  {
   "cell_type": "code",
   "execution_count": 18,
   "metadata": {},
   "outputs": [
    {
     "name": "stdout",
     "output_type": "stream",
     "text": [
      "Hi Reet, Good Afternoon !!\n"
     ]
    }
   ],
   "source": [
    "greet('Reet') # As there is only one argument, so function will automatically detect that input you provided was for argument 'name'"
   ]
  },
  {
   "cell_type": "code",
   "execution_count": null,
   "metadata": {},
   "outputs": [],
   "source": []
  },
  {
   "cell_type": "code",
   "execution_count": 19,
   "metadata": {},
   "outputs": [],
   "source": [
    "# Now let's say you want to print the specific message\n",
    "def greet(name, message):\n",
    "    print(f\"Hi {name}, {message}\")"
   ]
  },
  {
   "cell_type": "code",
   "execution_count": 21,
   "metadata": {},
   "outputs": [
    {
     "name": "stdout",
     "output_type": "stream",
     "text": [
      "Hi Deepak, Good Morning !!\n"
     ]
    }
   ],
   "source": [
    "# greet('Deepak') # Will throw an error\n",
    "greet(name = 'Deepak', message = 'Good Morning !!')"
   ]
  },
  {
   "cell_type": "code",
   "execution_count": 22,
   "metadata": {},
   "outputs": [
    {
     "name": "stdout",
     "output_type": "stream",
     "text": [
      "Hi Reet, How are you doing?\n"
     ]
    }
   ],
   "source": [
    "greet('Reet', 'How are you doing?')\n",
    "\n",
    "# As there are 2 Arguments and you are providing two inputs, function will map them automatically based on order"
   ]
  },
  {
   "cell_type": "code",
   "execution_count": 23,
   "metadata": {},
   "outputs": [
    {
     "name": "stdout",
     "output_type": "stream",
     "text": [
      "Hi How are you doing?, Reet\n"
     ]
    }
   ],
   "source": [
    "greet('How are you doing?', 'Reet')"
   ]
  },
  {
   "cell_type": "markdown",
   "metadata": {},
   "source": []
  },
  {
   "cell_type": "code",
   "execution_count": 28,
   "metadata": {},
   "outputs": [],
   "source": [
    "# Now let's say you are okay using 'Hi' as greeting word but sometimes you want to use some other greeting word\n",
    "def greet(name, message, greeting_word = 'Hi'):\n",
    "    print(f\"{greeting_word} {name}, {message}\")"
   ]
  },
  {
   "cell_type": "code",
   "execution_count": 30,
   "metadata": {},
   "outputs": [
    {
     "name": "stdout",
     "output_type": "stream",
     "text": [
      "Hi Deepak, Good Afternoon !!\n"
     ]
    }
   ],
   "source": [
    "greet(name = 'Deepak', message = 'Good Afternoon !!')\n",
    "\n",
    "# You can see that you have not provided input for `greeting_word` but it is not throwing any error.\n",
    "# It is happening because you provided the 'Default' value for 'greeting_word' which is 'Hi'\n",
    "# So it is using 'Hi' as greeting word"
   ]
  },
  {
   "cell_type": "code",
   "execution_count": 31,
   "metadata": {},
   "outputs": [
    {
     "name": "stdout",
     "output_type": "stream",
     "text": [
      "Howdy Reet, How are you today?\n"
     ]
    }
   ],
   "source": [
    "greet(name = 'Reet', message = 'How are you today?', greeting_word='Howdy')"
   ]
  },
  {
   "cell_type": "markdown",
   "metadata": {},
   "source": []
  },
  {
   "cell_type": "markdown",
   "metadata": {},
   "source": [
    "**Lets use another example**"
   ]
  },
  {
   "cell_type": "code",
   "execution_count": 45,
   "metadata": {},
   "outputs": [],
   "source": [
    "def EvenOdd(x):\n",
    "    if x%2 == 0:\n",
    "        return 'Even'\n",
    "    else:\n",
    "        return 'Odd'"
   ]
  },
  {
   "cell_type": "code",
   "execution_count": 33,
   "metadata": {},
   "outputs": [
    {
     "name": "stdout",
     "output_type": "stream",
     "text": [
      "Odd\n",
      "Even\n",
      "Odd\n"
     ]
    }
   ],
   "source": [
    "print(EvenOdd(3))\n",
    "print(EvenOdd(2))\n",
    "print(EvenOdd(5))"
   ]
  },
  {
   "cell_type": "code",
   "execution_count": 46,
   "metadata": {},
   "outputs": [],
   "source": [
    "a = EvenOdd(3)"
   ]
  },
  {
   "cell_type": "code",
   "execution_count": 47,
   "metadata": {},
   "outputs": [
    {
     "name": "stdout",
     "output_type": "stream",
     "text": [
      "Odd\n"
     ]
    }
   ],
   "source": [
    "print(a)"
   ]
  },
  {
   "cell_type": "code",
   "execution_count": 48,
   "metadata": {},
   "outputs": [],
   "source": [
    "def multiply(a, b):\n",
    "    return a*b"
   ]
  },
  {
   "cell_type": "code",
   "execution_count": 49,
   "metadata": {},
   "outputs": [
    {
     "data": {
      "text/plain": [
       "6"
      ]
     },
     "execution_count": 49,
     "metadata": {},
     "output_type": "execute_result"
    }
   ],
   "source": [
    "multiply(2,3)"
   ]
  },
  {
   "cell_type": "code",
   "execution_count": 50,
   "metadata": {},
   "outputs": [],
   "source": [
    "def multiply(a, b):\n",
    "    return a, b, a*b\n",
    "\n",
    "# You can return multiple values"
   ]
  },
  {
   "cell_type": "code",
   "execution_count": 51,
   "metadata": {},
   "outputs": [
    {
     "data": {
      "text/plain": [
       "(2, 3, 6)"
      ]
     },
     "execution_count": 51,
     "metadata": {},
     "output_type": "execute_result"
    }
   ],
   "source": [
    "multiply(2,3)"
   ]
  },
  {
   "cell_type": "code",
   "execution_count": 52,
   "metadata": {},
   "outputs": [
    {
     "name": "stdout",
     "output_type": "stream",
     "text": [
      "x is 2\n",
      "y is 3\n",
      "Multiplication of x and y is 6\n"
     ]
    }
   ],
   "source": [
    "x, y, x_y_mult = multiply(2,3)\n",
    "print(f\"x is {x}\")\n",
    "print(f\"y is {y}\")\n",
    "print(f\"Multiplication of x and y is {x_y_mult}\")"
   ]
  },
  {
   "cell_type": "markdown",
   "metadata": {},
   "source": []
  },
  {
   "cell_type": "markdown",
   "metadata": {},
   "source": [
    "**Now, Lets try to get `help` on functions defined by us**"
   ]
  },
  {
   "cell_type": "code",
   "execution_count": 53,
   "metadata": {},
   "outputs": [
    {
     "name": "stdout",
     "output_type": "stream",
     "text": [
      "Help on function multiply in module __main__:\n",
      "\n",
      "multiply(a, b)\n",
      "\n"
     ]
    }
   ],
   "source": [
    "help(multiply)"
   ]
  },
  {
   "cell_type": "code",
   "execution_count": 121,
   "metadata": {},
   "outputs": [],
   "source": [
    "multiply() # Press SHIFT TAB TAB"
   ]
  },
  {
   "cell_type": "code",
   "execution_count": 66,
   "metadata": {},
   "outputs": [],
   "source": [
    "def multiply(a, b):\n",
    "    \"\"\"\n",
    "    Description:-\n",
    "        It takes two inputs and returns the multiplication of those numbers.\n",
    "    \n",
    "    Inputs:-\n",
    "        a : Numeric\n",
    "            First number for multiplcation\n",
    "        b: Numeric\n",
    "            Second number for multiplcation\n",
    "    \n",
    "    Output:-\n",
    "        Returns the multiplication of a and b provided in argument.\n",
    "        \n",
    "    Examples:-\n",
    "        x, y, x_y_mult = multiply(2,3)\n",
    "        print(f\"x is {x}\")\n",
    "        print(f\"y is {y}\")\n",
    "        print(f\"Multiplication of x and y is {x_y_mult}\")\n",
    "    \n",
    "    Note:-\n",
    "        It will throw an error, if you will try on strings\n",
    "        \n",
    "    Useful Links:-\n",
    "        https://docs.python.org/3/library/\n",
    "        https://example.com/\n",
    "        \n",
    "    Written By:-\n",
    "        @Your_MS_ID or Your_Email_ID\n",
    "    \n",
    "    \"\"\"\n",
    "    \n",
    "    \n",
    "    return a, b, a*b\n"
   ]
  },
  {
   "cell_type": "code",
   "execution_count": 67,
   "metadata": {},
   "outputs": [
    {
     "name": "stdout",
     "output_type": "stream",
     "text": [
      "Help on function multiply in module __main__:\n",
      "\n",
      "multiply(a, b)\n",
      "    Description:-\n",
      "        It takes two inputs and returns the multiplication of those numbers.\n",
      "    \n",
      "    Inputs:-\n",
      "        a : Numeric\n",
      "            First number for multiplcation\n",
      "        b: Numeric\n",
      "            Second number for multiplcation\n",
      "    \n",
      "    Output:-\n",
      "        Returns the multiplication of a and b provided in argument.\n",
      "        \n",
      "    Examples:-\n",
      "        x, y, x_y_mult = multiply(2,3)\n",
      "        print(f\"x is {x}\")\n",
      "        print(f\"y is {y}\")\n",
      "        print(f\"Multiplication of x and y is {x_y_mult}\")\n",
      "    \n",
      "    Note:-\n",
      "        It will throw an error, if you will try on strings\n",
      "        \n",
      "    Useful Links:-\n",
      "        https://docs.python.org/3/library/\n",
      "        https://example.com/\n",
      "        \n",
      "    Written By:-\n",
      "        @Your_MS_ID or Your_Email_ID\n",
      "\n"
     ]
    }
   ],
   "source": [
    "help(multiply)"
   ]
  },
  {
   "cell_type": "code",
   "execution_count": 65,
   "metadata": {},
   "outputs": [
    {
     "name": "stdout",
     "output_type": "stream",
     "text": [
      "x is 2\n",
      "y is 3\n",
      "Multiplication of x and y is 6\n"
     ]
    }
   ],
   "source": [
    "x, y, x_y_mult = multiply(2,3)\n",
    "print(f\"x is {x}\")\n",
    "print(f\"y is {y}\")\n",
    "print(f\"Multiplication of x and y is {x_y_mult}\")"
   ]
  },
  {
   "cell_type": "code",
   "execution_count": null,
   "metadata": {},
   "outputs": [],
   "source": [
    "multiply() # Press SHIFT TAB TAB for magic"
   ]
  },
  {
   "cell_type": "code",
   "execution_count": null,
   "metadata": {},
   "outputs": [],
   "source": []
  },
  {
   "cell_type": "markdown",
   "metadata": {},
   "source": [
    "Please visit this link, you want learn further\n",
    "[Good Explanation of User-Defined-Functions](https://betterprogramming.pub/python-user-defined-functions-65f8662e2528)"
   ]
  },
  {
   "cell_type": "code",
   "execution_count": null,
   "metadata": {},
   "outputs": [],
   "source": []
  }
 ],
 "metadata": {
  "kernelspec": {
   "display_name": "Python 3",
   "language": "python",
   "name": "python3"
  },
  "language_info": {
   "codemirror_mode": {
    "name": "ipython",
    "version": 3
   },
   "file_extension": ".py",
   "mimetype": "text/x-python",
   "name": "python",
   "nbconvert_exporter": "python",
   "pygments_lexer": "ipython3",
   "version": "3.8.5"
  }
 },
 "nbformat": 4,
 "nbformat_minor": 4
}
