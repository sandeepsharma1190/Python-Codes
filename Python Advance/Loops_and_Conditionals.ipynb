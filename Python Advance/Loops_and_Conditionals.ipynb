{
 "cells": [
  {
   "cell_type": "markdown",
   "metadata": {},
   "source": [
    "## Conditionals\n",
    "Conditional Statements \n",
    "\n",
    "`if-else` `if-elif-else`"
   ]
  },
  {
   "cell_type": "markdown",
   "metadata": {},
   "source": []
  },
  {
   "cell_type": "markdown",
   "metadata": {},
   "source": [
    "### `IF-ELSE`\n",
    "\n",
    "**Syntax:** \n",
    "\n",
    "`\n",
    "if condition:\n",
    "   task\n",
    "else:\n",
    "   task\n",
    "`\n",
    "\n",
    "Please note that Python works on indentations not on brackets as it is with other programming languages"
   ]
  },
  {
   "cell_type": "markdown",
   "metadata": {},
   "source": [
    "##### Problem Statement (A):-\n",
    "You will be given a number and you have to print:-\n",
    "- \"Given number is even\", if number is even\n",
    "- \"Given number is odd\", if number is odd"
   ]
  },
  {
   "cell_type": "markdown",
   "metadata": {},
   "source": []
  },
  {
   "cell_type": "code",
   "execution_count": null,
   "metadata": {},
   "outputs": [],
   "source": []
  },
  {
   "cell_type": "code",
   "execution_count": 6,
   "metadata": {
    "scrolled": true
   },
   "outputs": [
    {
     "name": "stdout",
     "output_type": "stream",
     "text": [
      "Number is Odd\n"
     ]
    }
   ],
   "source": [
    "number = 7\n",
    "\n",
    "if number % 2 == 0:\n",
    "    print('Number is Even')\n",
    "else:\n",
    "    print('Number is Odd')    "
   ]
  },
  {
   "cell_type": "code",
   "execution_count": 5,
   "metadata": {},
   "outputs": [
    {
     "data": {
      "text/plain": [
       "False"
      ]
     },
     "execution_count": 5,
     "metadata": {},
     "output_type": "execute_result"
    }
   ],
   "source": [
    "number % 2 == 0"
   ]
  },
  {
   "cell_type": "code",
   "execution_count": 7,
   "metadata": {},
   "outputs": [
    {
     "name": "stdout",
     "output_type": "stream",
     "text": [
      "Number 6 is Even\n"
     ]
    }
   ],
   "source": [
    "# Now you want to print the number as well which is under consideration\n",
    "# You will use f-string\n",
    "number = 6\n",
    "\n",
    "if number % 2 ==0:\n",
    "    print(f'Number {number} is Even')\n",
    "else:\n",
    "    print(f'Number {number} is Odd')"
   ]
  },
  {
   "cell_type": "code",
   "execution_count": 11,
   "metadata": {},
   "outputs": [
    {
     "name": "stdout",
     "output_type": "stream",
     "text": [
      "Number '7' is Odd\n"
     ]
    }
   ],
   "source": [
    "# Now you want to provide special attention to number by making it surrounded by ''\n",
    "# You will use f-string with \"\"\n",
    "number = 7\n",
    "\n",
    "if number % 2 ==0:\n",
    "    print(f\"Number '{number}' is Even\")\n",
    "else:\n",
    "    print(f\"Number '{number}' is Odd\")"
   ]
  },
  {
   "cell_type": "markdown",
   "metadata": {},
   "source": [
    "**User Input in Python**"
   ]
  },
  {
   "cell_type": "code",
   "execution_count": 12,
   "metadata": {},
   "outputs": [
    {
     "name": "stdout",
     "output_type": "stream",
     "text": [
      "Enter a Number:10\n",
      "User Provided : 10\n"
     ]
    }
   ],
   "source": [
    "user_input_number = input(\"Enter a Number:\")\n",
    "print(f\"User Provided : {user_input_number}\")"
   ]
  },
  {
   "cell_type": "code",
   "execution_count": 14,
   "metadata": {},
   "outputs": [
    {
     "name": "stdout",
     "output_type": "stream",
     "text": [
      "Enter a Number:13\n",
      "\n",
      "\n",
      "Number '13' is Odd\n"
     ]
    }
   ],
   "source": [
    "# Now suppose you want to user to input a number and you want to test whether it is Even or not\n",
    "# You will use `input` function of python\n",
    "\n",
    "user_input_number = input(\"Enter a Number:\")\n",
    "number = int(user_input_number)\n",
    "\n",
    "print('\\n')\n",
    "\n",
    "if number % 2 ==0:\n",
    "    print(f\"Number '{number}' is Even\")\n",
    "else:\n",
    "    print(f\"Number '{number}' is Odd\")"
   ]
  },
  {
   "cell_type": "markdown",
   "metadata": {},
   "source": []
  },
  {
   "cell_type": "markdown",
   "metadata": {},
   "source": [
    "### `IF-ELIF-ELSE`\n",
    "\n",
    "**Syntax:**\n",
    "\n",
    "`\n",
    "if condition:\n",
    "   task\n",
    "elif condition:\n",
    "   task\n",
    "elif condition:\n",
    "   task\n",
    "else:\n",
    "  task \n",
    "`\n",
    "\n",
    "It is used when you have multiple `if` conditions.\n",
    "\n",
    "Remember one thing that we **never give a condition in the else block**. else blocks are executed when the condition becomes false.\n"
   ]
  },
  {
   "cell_type": "markdown",
   "metadata": {},
   "source": [
    "##### Problem Statement (B):-\n",
    "You will be given a number and you have to print:-\n",
    "- \"**_Given number is 'Multiple of 3'_**\", if it is completely divisible by 3\n",
    "- \"**_Given number is 'Multiple of 5'_**\", if it is completely divisible by 5\n",
    "- \"**_Given number is 'Multiple of 7'_**\", if it is completely divisible by 7\n",
    "- \"**_Given number is not a 'Multiple of 3 or 5 or 7'_**\", otherwise"
   ]
  },
  {
   "cell_type": "code",
   "execution_count": 15,
   "metadata": {},
   "outputs": [
    {
     "name": "stdout",
     "output_type": "stream",
     "text": [
      "Enter a Number:15\n",
      "\n",
      "\n",
      "Given Number '15' is 'Multiple of 3'\n"
     ]
    }
   ],
   "source": [
    "user_input_number = input(\"Enter a Number:\")\n",
    "number = int(user_input_number)\n",
    "\n",
    "print('\\n')\n",
    "\n",
    "if number % 3 ==0:\n",
    "    print(f\"Given Number '{number}' is 'Multiple of 3'\")\n",
    "elif number % 5 ==0:\n",
    "    print(f\"Given Number '{number}' is 'Multiple of 5'\")\n",
    "elif number % 7 ==0:\n",
    "    print(f\"Given Number '{number}' is 'Multiple of 7'\")\n",
    "else:\n",
    "    print(f\"Given Number '{number}' is not a 'Multiple of 3 or 5 or 7'\")"
   ]
  },
  {
   "cell_type": "markdown",
   "metadata": {},
   "source": []
  },
  {
   "cell_type": "markdown",
   "metadata": {},
   "source": [
    "## Loops\n",
    "`Loops` are very useful when you need to perform a task multiple times\n",
    "\n",
    "`for` `while`"
   ]
  },
  {
   "cell_type": "code",
   "execution_count": null,
   "metadata": {},
   "outputs": [],
   "source": []
  },
  {
   "cell_type": "code",
   "execution_count": null,
   "metadata": {},
   "outputs": [],
   "source": []
  },
  {
   "cell_type": "markdown",
   "metadata": {},
   "source": [
    "Suppose you want to repeat problem statement **B**, 4 times. How you will do this?"
   ]
  },
  {
   "cell_type": "code",
   "execution_count": 16,
   "metadata": {},
   "outputs": [
    {
     "name": "stdout",
     "output_type": "stream",
     "text": [
      "1st Block in Action\n",
      "Enter a Number:10\n",
      "\n",
      "\n",
      "Given Number '10' is 'Multiple of 5'\n",
      "\n",
      "\n",
      "\n",
      "2nd Block in Action\n",
      "Enter a Number:20\n",
      "\n",
      "\n",
      "Given Number '20' is 'Multiple of 5'\n",
      "\n",
      "\n",
      "\n",
      "3rd Block in Action\n",
      "Enter a Number:30\n",
      "\n",
      "\n",
      "Given Number '30' is 'Multiple of 3'\n",
      "\n",
      "\n",
      "\n",
      "4th Block in Action\n",
      "Enter a Number:40\n",
      "\n",
      "\n",
      "Given Number '40' is 'Multiple of 5'\n"
     ]
    }
   ],
   "source": [
    "#################################################################################\n",
    "############################### First Block #####################################\n",
    "#################################################################################\n",
    "print('1st Block in Action')\n",
    "user_input_number = input(\"Enter a Number:\")\n",
    "number = int(user_input_number)\n",
    "\n",
    "print('\\n')\n",
    "\n",
    "if number % 3 ==0:\n",
    "    print(f\"Given Number '{number}' is 'Multiple of 3'\")\n",
    "elif number % 5 ==0:\n",
    "    print(f\"Given Number '{number}' is 'Multiple of 5'\")\n",
    "elif number % 7 ==0:\n",
    "    print(f\"Given Number '{number}' is 'Multiple of 7'\")\n",
    "else:\n",
    "    print(f\"Given Number '{number}' is not a 'Multiple of 3 or 5 or 7'\")\n",
    "    \n",
    "    \n",
    "#################################################################################\n",
    "############################### second Block #####################################\n",
    "#################################################################################\n",
    "\n",
    "\n",
    "print('\\n\\n')\n",
    "print('2nd Block in Action')\n",
    "\n",
    "user_input_number = input(\"Enter a Number:\")\n",
    "number = int(user_input_number)\n",
    "\n",
    "print('\\n')\n",
    "\n",
    "if number % 3 ==0:\n",
    "    print(f\"Given Number '{number}' is 'Multiple of 3'\")\n",
    "elif number % 5 ==0:\n",
    "    print(f\"Given Number '{number}' is 'Multiple of 5'\")\n",
    "elif number % 7 ==0:\n",
    "    print(f\"Given Number '{number}' is 'Multiple of 7'\")\n",
    "else:\n",
    "    print(f\"Given Number '{number}' is not a 'Multiple of 3 or 5 or 7'\")\n",
    "\n",
    "#################################################################################\n",
    "############################### Third Block #####################################\n",
    "#################################################################################\n",
    "\n",
    "\n",
    "print('\\n\\n')\n",
    "print('3rd Block in Action')\n",
    "\n",
    "user_input_number = input(\"Enter a Number:\")\n",
    "number = int(user_input_number)\n",
    "\n",
    "print('\\n')\n",
    "\n",
    "if number % 3 ==0:\n",
    "    print(f\"Given Number '{number}' is 'Multiple of 3'\")\n",
    "elif number % 5 ==0:\n",
    "    print(f\"Given Number '{number}' is 'Multiple of 5'\")\n",
    "elif number % 7 ==0:\n",
    "    print(f\"Given Number '{number}' is 'Multiple of 7'\")\n",
    "else:\n",
    "    print(f\"Given Number '{number}' is not a 'Multiple of 3 or 5 or 7'\")\n",
    "\n",
    "#################################################################################\n",
    "############################### fourth Block ####################################\n",
    "#################################################################################\n",
    "\n",
    "\n",
    "print('\\n\\n')\n",
    "print('4th Block in Action')\n",
    "\n",
    "user_input_number = input(\"Enter a Number:\")\n",
    "number = int(user_input_number)\n",
    "\n",
    "print('\\n')\n",
    "\n",
    "if number % 3 ==0:\n",
    "    print(f\"Given Number '{number}' is 'Multiple of 3'\")\n",
    "elif number % 5 ==0:\n",
    "    print(f\"Given Number '{number}' is 'Multiple of 5'\")\n",
    "elif number % 7 ==0:\n",
    "    print(f\"Given Number '{number}' is 'Multiple of 7'\")\n",
    "else:\n",
    "    print(f\"Given Number '{number}' is not a 'Multiple of 3 or 5 or 7'\")\n",
    "\n"
   ]
  },
  {
   "cell_type": "markdown",
   "metadata": {},
   "source": [
    "**Above task can be done very easily using `For Loop` with lesser number of line as it is repetitive task**"
   ]
  },
  {
   "cell_type": "markdown",
   "metadata": {},
   "source": [
    "### `FOR`\n",
    "\n",
    "**Syntax:**\n",
    "\n",
    "`\n",
    "for i in iterable:\n",
    "    Task\n",
    "`\n"
   ]
  },
  {
   "cell_type": "markdown",
   "metadata": {},
   "source": [
    "##### Now, what is this new **iterable** ??"
   ]
  },
  {
   "cell_type": "markdown",
   "metadata": {},
   "source": [
    "#### `ITERABLE`\n",
    "An `iterable` is any Python object capable of returning its members one at a time, permitting it to be iterated over in a `for-loop`"
   ]
  },
  {
   "cell_type": "markdown",
   "metadata": {},
   "source": [
    "![Open a New Jupyter Notebook](image/Python_Iterables.png)"
   ]
  },
  {
   "cell_type": "code",
   "execution_count": 19,
   "metadata": {},
   "outputs": [
    {
     "name": "stdout",
     "output_type": "stream",
     "text": [
      "O\n",
      "P\n",
      "T\n",
      "U\n",
      "M\n"
     ]
    }
   ],
   "source": [
    "# String iterable\n",
    "company_name = 'OPTUM'\n",
    "for i in company_name:\n",
    "    print(i)"
   ]
  },
  {
   "cell_type": "code",
   "execution_count": 18,
   "metadata": {},
   "outputs": [
    {
     "name": "stdout",
     "output_type": "stream",
     "text": [
      "1\n",
      "2\n",
      "10\n",
      "10\n",
      "10\n",
      "30\n",
      "30\n"
     ]
    }
   ],
   "source": [
    "# lists iterable\n",
    "listB = [1, 2, 10, 10, 10, 30, 30]\n",
    "for i in listB:\n",
    "    print(i)"
   ]
  },
  {
   "cell_type": "code",
   "execution_count": 20,
   "metadata": {},
   "outputs": [
    {
     "name": "stdout",
     "output_type": "stream",
     "text": [
      "python\n",
      "data science\n",
      "JavaScript\n",
      "[1, 2, 3, 4]\n"
     ]
    }
   ],
   "source": [
    "# dictionary iterable\n",
    "courses = {1: 'python', 2: 'data science', 'third': 'JavaScript', 'list' : [1, 2, 3, 4]}\n",
    "for i in courses.keys():\n",
    "    print(courses[i])"
   ]
  },
  {
   "cell_type": "code",
   "execution_count": 21,
   "metadata": {},
   "outputs": [
    {
     "name": "stdout",
     "output_type": "stream",
     "text": [
      "tiger\n",
      "lion\n",
      "seal\n",
      "seal\n"
     ]
    }
   ],
   "source": [
    "# tuple iterable\n",
    "animals = ('tiger', 'lion', 'seal', 'seal')\n",
    "for i in animals:\n",
    "    print(i)"
   ]
  },
  {
   "cell_type": "code",
   "execution_count": 24,
   "metadata": {},
   "outputs": [
    {
     "name": "stdout",
     "output_type": "stream",
     "text": [
      "{'pear', 'orange', 'banana', 'apple'}\n",
      "pear\n",
      "orange\n",
      "banana\n",
      "apple\n"
     ]
    }
   ],
   "source": [
    "# sets iterable\n",
    "basket = {'apple', 'orange', 'apple', 'pear', 'orange', 'banana'}\n",
    "print(basket)\n",
    "for i in basket:\n",
    "    print(i)"
   ]
  },
  {
   "cell_type": "markdown",
   "metadata": {},
   "source": [
    "### `Range`\n",
    "\n",
    "**Syntax:**\n",
    "\n",
    "`range(start, stop, step)`\n",
    "\n",
    "Returns a sequence of numbers, starting from 0 by default, and increments by 1 (by default), and stops before a specified number"
   ]
  },
  {
   "cell_type": "code",
   "execution_count": 25,
   "metadata": {},
   "outputs": [
    {
     "name": "stdout",
     "output_type": "stream",
     "text": [
      "0\n",
      "1\n",
      "2\n",
      "3\n",
      "4\n"
     ]
    }
   ],
   "source": [
    "# Will start printing from 0 and stop before 5 i.e. print till 4\n",
    "for i in range(5):\n",
    "    print(i)"
   ]
  },
  {
   "cell_type": "code",
   "execution_count": 62,
   "metadata": {},
   "outputs": [
    {
     "name": "stdout",
     "output_type": "stream",
     "text": [
      "2\n",
      "3\n",
      "4\n",
      "5\n",
      "6\n",
      "7\n",
      "8\n",
      "9\n"
     ]
    }
   ],
   "source": [
    "# will print from 2 till 9\n",
    "for i in range(2,10):\n",
    "    print(i)"
   ]
  },
  {
   "cell_type": "code",
   "execution_count": 63,
   "metadata": {},
   "outputs": [
    {
     "name": "stdout",
     "output_type": "stream",
     "text": [
      "2\n",
      "4\n",
      "6\n",
      "8\n"
     ]
    }
   ],
   "source": [
    "# will print from 2 till 9 but at a jump of 2\n",
    "for i in range(2,10,2):\n",
    "    print(i)"
   ]
  },
  {
   "cell_type": "markdown",
   "metadata": {},
   "source": [
    "**let perform task B, 4 times**"
   ]
  },
  {
   "cell_type": "code",
   "execution_count": 27,
   "metadata": {},
   "outputs": [
    {
     "name": "stdout",
     "output_type": "stream",
     "text": [
      "Block 1 in Action\n",
      "Enter a Number:10\n",
      "\n",
      "\n",
      "Given Number '10' is 'Multiple of 5'\n",
      "\n",
      "\n",
      "\n",
      "Block 2 in Action\n",
      "Enter a Number:20\n",
      "\n",
      "\n",
      "Given Number '20' is 'Multiple of 5'\n",
      "\n",
      "\n",
      "\n",
      "Block 3 in Action\n",
      "Enter a Number:30\n",
      "\n",
      "\n",
      "Given Number '30' is 'Multiple of 3'\n",
      "\n",
      "\n",
      "\n",
      "Block 4 in Action\n",
      "Enter a Number:45\n",
      "\n",
      "\n",
      "Given Number '45' is 'Multiple of 3'\n",
      "\n",
      "\n",
      "\n"
     ]
    }
   ],
   "source": [
    "for i in range(4):\n",
    "    print(f'Block {i+1} in Action')\n",
    "\n",
    "    user_input_number = input(\"Enter a Number:\")\n",
    "    number = int(user_input_number)\n",
    "    \n",
    "\n",
    "    print('\\n')\n",
    "\n",
    "    if number % 3 ==0:\n",
    "        print(f\"Given Number '{number}' is 'Multiple of 3'\")\n",
    "    elif number % 5 ==0:\n",
    "        print(f\"Given Number '{number}' is 'Multiple of 5'\")\n",
    "    elif number % 7 ==0:\n",
    "        print(f\"Given Number '{number}' is 'Multiple of 7'\")\n",
    "    else:\n",
    "        print(f\"Given Number '{number}' is not a 'Multiple of 3 or 5 or 7'\")\n",
    "    \n",
    "    print('\\n\\n')\n"
   ]
  },
  {
   "cell_type": "markdown",
   "metadata": {},
   "source": []
  },
  {
   "cell_type": "markdown",
   "metadata": {},
   "source": [
    "### `While`\n",
    "\n",
    "**Syntax:**\n",
    "\n",
    "`\n",
    "while condition:\n",
    "    task\n",
    "    increment / decrement / condition\n",
    "`\n",
    "\n",
    "`while` loops are used, when you are not sure about many times you have to run the loop.\n",
    "\n",
    "#### Problem Statement\n",
    "\n",
    "You have to ask user to input a number untill he/she enters a number which is 'multiple of 7'"
   ]
  },
  {
   "cell_type": "code",
   "execution_count": 28,
   "metadata": {},
   "outputs": [
    {
     "name": "stdout",
     "output_type": "stream",
     "text": [
      "Enter a Number:1\n",
      "Enter a Number again:3\n",
      "Enter a Number again:4\n",
      "Enter a Number again:5\n",
      "Enter a Number again:6\n",
      "Enter a Number again:8\n",
      "Enter a Number again:9\n",
      "Enter a Number again:89\n",
      "Enter a Number again:90\n",
      "Enter a Number again:14\n"
     ]
    }
   ],
   "source": [
    "user_input_number = input(\"Enter a Number:\")\n",
    "user_input_number = int(user_input_number)\n",
    "\n",
    "while user_input_number % 7 !=0:\n",
    "    user_input_number = input(\"Enter a Number again:\")\n",
    "    user_input_number = int(user_input_number)"
   ]
  },
  {
   "cell_type": "markdown",
   "metadata": {},
   "source": []
  },
  {
   "cell_type": "markdown",
   "metadata": {},
   "source": [
    "### Enumerate\n",
    "\n",
    "`Enumerate` are used in for loops. They are very helpful when we need both the value and the index of that value."
   ]
  },
  {
   "cell_type": "code",
   "execution_count": 34,
   "metadata": {},
   "outputs": [
    {
     "name": "stdout",
     "output_type": "stream",
     "text": [
      "2\n",
      "5\n",
      "8\n"
     ]
    }
   ],
   "source": [
    "# This will print the index of the element if the element is multiple of 3\n",
    "lst = [1,2,3,4,5,6,7,8,9,10]\n",
    "for index,value in enumerate(lst):\n",
    "#     print(index, end=' ')\n",
    "#     print(value)\n",
    "    \n",
    "    if value % 3==0:\n",
    "        print(index)"
   ]
  },
  {
   "cell_type": "code",
   "execution_count": null,
   "metadata": {},
   "outputs": [],
   "source": []
  },
  {
   "cell_type": "code",
   "execution_count": null,
   "metadata": {},
   "outputs": [],
   "source": []
  },
  {
   "cell_type": "code",
   "execution_count": null,
   "metadata": {},
   "outputs": [],
   "source": []
  },
  {
   "cell_type": "code",
   "execution_count": null,
   "metadata": {},
   "outputs": [],
   "source": []
  }
 ],
 "metadata": {
  "kernelspec": {
   "display_name": "Python 3",
   "language": "python",
   "name": "python3"
  },
  "language_info": {
   "codemirror_mode": {
    "name": "ipython",
    "version": 3
   },
   "file_extension": ".py",
   "mimetype": "text/x-python",
   "name": "python",
   "nbconvert_exporter": "python",
   "pygments_lexer": "ipython3",
   "version": "3.8.3"
  }
 },
 "nbformat": 4,
 "nbformat_minor": 4
}
